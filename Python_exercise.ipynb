{
  "nbformat": 4,
  "nbformat_minor": 0,
  "metadata": {
    "colab": {
      "provenance": [],
      "authorship_tag": "ABX9TyMHDf50y4oJX9DN8JMLWlha",
      "include_colab_link": true
    },
    "kernelspec": {
      "name": "python3",
      "display_name": "Python 3"
    },
    "language_info": {
      "name": "python"
    }
  },
  "cells": [
    {
      "cell_type": "markdown",
      "metadata": {
        "id": "view-in-github",
        "colab_type": "text"
      },
      "source": [
        "<a href=\"https://colab.research.google.com/github/greatgrowthguide/DN-DOMAIN/blob/main/Python_exercise.ipynb\" target=\"_parent\"><img src=\"https://colab.research.google.com/assets/colab-badge.svg\" alt=\"Open In Colab\"/></a>"
      ]
    },
    {
      "cell_type": "markdown",
      "source": [
        "เขียนโปรแกรมเพื่อรับ input เป็น string และแสดงผลเป็น string นั้นในลำดับที่กลับกัน เช่น\n",
        "input: HELLO\n",
        "output: OLLEH"
      ],
      "metadata": {
        "id": "Km_zIavL2jt5"
      }
    },
    {
      "cell_type": "code",
      "source": [
        "text = input(\"Enter a string: \")\n",
        "print(text[::-1])"
      ],
      "metadata": {
        "colab": {
          "base_uri": "https://localhost:8080/"
        },
        "id": "TQkEpSjC2OgB",
        "outputId": "831c4956-255f-4285-f00e-400e15b1c3e8"
      },
      "execution_count": 3,
      "outputs": [
        {
          "output_type": "stream",
          "name": "stdout",
          "text": [
            "Enter a string: RINLADA\n",
            "ADALNIR\n"
          ]
        }
      ]
    },
    {
      "cell_type": "markdown",
      "source": [
        "เขียนโปรแกรมเพื่อคำนวณลำดับฟิโบนัคชี (Fibonacci) โดยรับ input\n",
        "เป็นจำนวนของลำดับและแสดงผลตามจำนวนนั้น (เริ่มนับจาก 0) เช่น\n",
        "input: 5\n",
        "output: 0, 1, 1, 2, 3\n",
        "หมายเหตุ\n",
        "(1) ลำดับฟิโบนัคชีสามารถคำนวณได้จากสูตร F n = F n-1 + F n-2 โดย F 0 = 0 และ F 1 = 1\n",
        "(2) ข้อนี้มีคะแนนพิเศษสำหรับการเขียนโปรแกรมแบบ recursive function"
      ],
      "metadata": {
        "id": "mdsXTTZw2dWf"
      }
    },
    {
      "cell_type": "code",
      "source": [
        "def fibonacci(n):\n",
        "    if n <= 0:\n",
        "        return []\n",
        "    elif n == 1:\n",
        "        return [0]\n",
        "    elif n == 2:\n",
        "        return [0, 1]\n",
        "    fib = [0, 1]\n",
        "    for i in range(2, n):\n",
        "        fib.append(fib[i-1] + fib[i-2])\n",
        "    return fib\n",
        "\n",
        "n = int(input(\"Enter a number: \"))\n",
        "print(fibonacci(n))"
      ],
      "metadata": {
        "colab": {
          "base_uri": "https://localhost:8080/"
        },
        "id": "CHkCnAng2iDr",
        "outputId": "9ca4997f-03e8-456e-c618-7ea813957add"
      },
      "execution_count": 4,
      "outputs": [
        {
          "output_type": "stream",
          "name": "stdout",
          "text": [
            "Enter a number: 5\n",
            "[0, 1, 1, 2, 3]\n"
          ]
        }
      ]
    },
    {
      "cell_type": "markdown",
      "source": [
        "เขียนโปรแกรมเพื่อแสดงรูปแบบตามที่กำหนด โดยรับ input เป็นขนาดของ pattern เป็นจำนวนคี่\n",
        "และแสดงผลเป็น pattern ที่สัมพันธ์กับขนาดที่ได้รับ"
      ],
      "metadata": {
        "id": "VsOutNF72-W6"
      }
    },
    {
      "cell_type": "code",
      "source": [
        "n = int(input(\"Enter size: \"))\n",
        "for i in range(n):\n",
        "    for j in range(n):\n",
        "        print('*' if i == j else '.', end='')\n",
        "    print()"
      ],
      "metadata": {
        "colab": {
          "base_uri": "https://localhost:8080/"
        },
        "id": "7LSsqn3y3B0Y",
        "outputId": "7a1fcd78-c017-43d3-9839-f3f86f4fd1f5"
      },
      "execution_count": 5,
      "outputs": [
        {
          "output_type": "stream",
          "name": "stdout",
          "text": [
            "Enter size: 5\n",
            "*....\n",
            ".*...\n",
            "..*..\n",
            "...*.\n",
            "....*\n"
          ]
        }
      ]
    },
    {
      "cell_type": "markdown",
      "source": [
        "เขียนโปรแกรมเพื่อแสดงผลตัวอักษร A และ B โดยรับ input เป็นจำนวนของตัวอักษร A และ B\n",
        "จากนั้นแสดงผลตัวอักษรทั้งสองตามจำนวนที่ได้รับ โดย\n",
        "ห้ามไม่ให้มีการแสดงผลตัวอักษรเดียวกันซ้ำติดกันเกิน 2 ครั้ง\n",
        "และจะต้องใช้ตัวอักษรทั้งหมดให้ครบตามจำนวน เช่น\n",
        "input number of A: 5\n",
        "input number of B: 3\n",
        "output: AABABABA\n",
        "(ตัวอย่าง output ที่ผิด คือ AAABABAB)\n",
        "ถ้าไม่สามารถแสดงได้ตามเงื่อนไข ให้แสดงข้อความ error"
      ],
      "metadata": {
        "id": "vxqLvoO53WMq"
      }
    },
    {
      "cell_type": "code",
      "source": [
        "def generate_string(a, b):\n",
        "    s = \"\"\n",
        "    while a or b:\n",
        "        if (a > b and s[-2:] != \"AA\") or s[-2:] == \"BB\":\n",
        "            if not a: return print(\"error\")\n",
        "            s += \"A\"; a -= 1\n",
        "        else:\n",
        "            if not b: return print(\"error\")\n",
        "            s += \"B\"; b -= 1\n",
        "    print(s)\n",
        "\n",
        "a = int(input(\"Enter number of A: \"))\n",
        "b = int(input(\"Enter number of B: \"))\n",
        "generate_string(a, b)"
      ],
      "metadata": {
        "colab": {
          "base_uri": "https://localhost:8080/"
        },
        "id": "KhabqBOS4bZw",
        "outputId": "b78df1a8-bf19-4d78-dc61-e9cf307ef476"
      },
      "execution_count": 10,
      "outputs": [
        {
          "output_type": "stream",
          "name": "stdout",
          "text": [
            "Enter number of A: 4\n",
            "Enter number of B: 3\n",
            "ABABABA\n"
          ]
        }
      ]
    }
  ]
}